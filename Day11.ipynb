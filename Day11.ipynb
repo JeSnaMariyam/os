{
  "nbformat": 4,
  "nbformat_minor": 0,
  "metadata": {
    "colab": {
      "provenance": [],
      "authorship_tag": "ABX9TyNdmNN5qLLk0x+JKyLUALJC",
      "include_colab_link": true
    },
    "kernelspec": {
      "name": "python3",
      "display_name": "Python 3"
    },
    "language_info": {
      "name": "python"
    }
  },
  "cells": [
    {
      "cell_type": "markdown",
      "metadata": {
        "id": "view-in-github",
        "colab_type": "text"
      },
      "source": [
        "<a href=\"https://colab.research.google.com/github/JeSnaMariyam/os/blob/main/Day11.ipynb\" target=\"_parent\"><img src=\"https://colab.research.google.com/assets/colab-badge.svg\" alt=\"Open In Colab\"/></a>"
      ]
    },
    {
      "cell_type": "markdown",
      "source": [
        "# **Object Oriented Programming**\n",
        "\n",
        "OOP is a proggramminng paradigm that structures software design data or objects, rather than fns; and  logics.\n",
        "\n",
        "This approach alllows developers to  model real-world entities as objects, encapsulating both data and behaviour.\n",
        "\n",
        "In this class, we will explore the fundamental concepts of OOP, its principle, and how it facilitates the develop\n",
        "\n",
        "\n",
        "### **Which programming paradigm to use**\n",
        "\n",
        "        **OOP**\n",
        "    Models real-world\n",
        "    entities as objects,\n",
        "    encapsulating data and behaviour\n",
        "\n",
        "      **Functional Programming**\n",
        "    Focuses on Functions\n",
        "    and logic, treating data\n",
        "      as immutable\n"
      ],
      "metadata": {
        "id": "75CRhH81_yFG"
      }
    },
    {
      "cell_type": "markdown",
      "source": [
        "## **Key concepts of OOP:**\n",
        "\n",
        "**1. OBJECTS:**\n",
        "\n",
        "Objects are the core **building  blocks** of OOP. An object is an **instance of a class that encapsulates data and methods** that operate on that data. Each object has its own state and behaviour, representing real-wolrd entities.\n",
        "\n",
        "**2. CLASS:**\n",
        "\n",
        "**3. ENCAPSULATION**\n",
        "\n",
        "It is the principle of bundling the data(attributes) and methods()\n",
        "\n",
        "**4. INHERITANCE**\n",
        "\n",
        "allows a new class to inherit properties and methods from an existing class. This promotes code  reusability and establishes a hierarchical\n",
        "\n",
        "eg: **class: animal**\n",
        "\n",
        "1st sub class: dog\n",
        "\n",
        "multiple instances of dog class:\n",
        "\n",
        "* lab\n",
        "\n",
        "* golden retriever\n",
        "\n",
        "* bully\n",
        "\n",
        "2nd : cat\n",
        "\n",
        "3rd : cow\n",
        "\n"
      ],
      "metadata": {
        "id": "FDxloorGGPZx"
      }
    },
    {
      "cell_type": "markdown",
      "source": [
        "**5. POLYMORPHISM**\n",
        "\n",
        "Means same function names but different data types or arguments.\n",
        "\n",
        "enables objects to be created as instances of their parent class, allowing for methods to be defined in different ways based on the objects that is calling them. this can be achieved through  method overriding and method overloading, providing flexibility in code.\n",
        "\n",
        "class : shape\n",
        "method : draw()\n",
        "\n",
        "\n",
        "1. class: circle\n",
        "method : draw()\n",
        "\n",
        "2. class: rectangle\n",
        "method : draw()\n",
        "\n",
        "3. class: square\n",
        "method : draw()\n"
      ],
      "metadata": {
        "id": "HTe-HSk5Idob"
      }
    },
    {
      "cell_type": "markdown",
      "source": [
        "6. **ABSTRACTION**\n",
        "\n",
        "SHOWING THE NECESSARY PART AND HIDING THE IMP-LEMENTATION PART."
      ],
      "metadata": {
        "id": "Xe9OHj_lLPwe"
      }
    },
    {
      "cell_type": "markdown",
      "source": [
        "### **BENEFITS OF OOP**\n",
        "\n",
        "* MODULARITY: oop promots modularity, making it easier to manage and maintain code.\n",
        "\n",
        "* Reusability: Through inheritance and encapsulation, OOOP allows for code reuse, reducing\n",
        ";;;;;;;;;;;;"
      ],
      "metadata": {
        "id": "zrWJK4rEL6yf"
      }
    },
    {
      "cell_type": "code",
      "source": [
        "# class name: dog, attributes of dog class;\n",
        "# name and breed are attributes of each dog instances\n",
        "# bark is method that prints a message including the gog's name.\n",
        "\n",
        "class Dog:\n",
        "    def __init__(self, name, breed):  # creating constructor(self, attr1, attr2):\n",
        "        self.name = name    # self : a reference to the current instance of the class\n",
        "        self.breed = breed\n",
        "\n",
        "\n",
        "# creating instance of class\n",
        "    def bark(self):\n",
        "        print(f\"{self.name} Woof! Woof!\")\n",
        "\n",
        "\n",
        "#creating an instances of the dog class\n",
        "# inst_name = class_name(attr1,attr2)\n",
        "my_dog = Dog(\"Buddy\", \"Golden Retriever\")\n",
        "my_dog.bark() #o/p -----> Buddy says woof\n",
        "\n",
        "her_dog = Dog(\"Max\", \"Labrador\")\n",
        "her_dog.bark() #o/p -----> Max says woof"
      ],
      "metadata": {
        "colab": {
          "base_uri": "https://localhost:8080/"
        },
        "id": "zrhjsL0BMU5w",
        "outputId": "a0dc19b1-b5f5-43f7-9981-496d3258303d"
      },
      "execution_count": 3,
      "outputs": [
        {
          "output_type": "stream",
          "name": "stdout",
          "text": [
            "Buddy Woof! Woof!\n",
            "Max Woof! Woof!\n"
          ]
        }
      ]
    },
    {
      "cell_type": "code",
      "execution_count": 7,
      "metadata": {
        "id": "Hdz9xBz6ml-1",
        "colab": {
          "base_uri": "https://localhost:8080/"
        },
        "outputId": "0fedeb44-0385-4e71-8554-44d4d3975b2c"
      },
      "outputs": [
        {
          "output_type": "stream",
          "name": "stdout",
          "text": [
            "bruno says meow\n",
            "Name: bruno, Age: 2, Color: Gray\n"
          ]
        }
      ],
      "source": [
        "# create a cat class with attributes and methods along with 2 objects(instance) of this class\n",
        "# atttributes : name, age, color\n",
        "# method :meow() --> cat says meow\n",
        "# display info() --> displays all attributes\n",
        "\n",
        "class Cat:\n",
        "    def __init__(self, name, age, color):\n",
        "        self.name = name\n",
        "        self.age = age\n",
        "        self.color = color\n",
        "\n",
        "    def meow(self):\n",
        "        print(f\"{self.name} says meow\")\n",
        "\n",
        "    def display_info(self):\n",
        "        print(f\"Name: {self.name}, Age: {self.age}, Color: {self.color}\")\n",
        "\n",
        "sound = Cat(\"bruno\", 2, \"White\")\n",
        "sound.meow()\n",
        "\n",
        "cat2 =\n",
        "sound.display_info()"
      ]
    },
    {
      "cell_type": "code",
      "source": [
        "class Dog:\n",
        "    def __init__(self, name, age, color):\n",
        "        self.name = name\n",
        "        self.age = age\n",
        "        self.color = color  # Changed 'Color' to 'color'\n",
        "\n",
        "    def bark(self):\n",
        "        print(f\"{self.name} sya bowhh bowhhhh!\")\n",
        "\n",
        "    def display_info(self):\n",
        "        print(f\"name: {self.name}, age: {self.age}, color: {self.color}\")\n",
        "\n",
        "# Moved the object creation and method calls outside the class definition.\n",
        "sound = Dog(\"ricky\", 3, \"white\")\n",
        "sound.bark()\n",
        "sound.display_info()"
      ],
      "metadata": {
        "colab": {
          "base_uri": "https://localhost:8080/"
        },
        "id": "xIc6AcVUUk8V",
        "outputId": "86cd257c-8c32-47e2-bb1f-811d7a757c9a"
      },
      "execution_count": 11,
      "outputs": [
        {
          "output_type": "stream",
          "name": "stdout",
          "text": [
            "ricky sya bowhh bowhhhh!\n",
            "name: ricky, age: 3, color: white\n"
          ]
        }
      ]
    },
    {
      "cell_type": "code",
      "source": [
        "# create class named vehicle with attribute:  make, model, color\n",
        "# method() : start(), display_info()\n",
        "#do 3 instances of class\n",
        "\n",
        "class vehicle():\n",
        "  def __init__(self, make, model, year, color):\n",
        "    self.make = make\n",
        "    self.model = model\n",
        "    self.year = year\n",
        "    self.color = color\n",
        "\n",
        "\n",
        "  def start(self):\n",
        "      print(self.color,self.make,self.model, \"is starting\")\n",
        "\n",
        "\n",
        "  def display_infor(self):\n",
        "      print(\"Make:\",self.make)\n",
        "      print(\"Model:\",self.model)\n",
        "      print(\"Year:\",self.year)\n",
        "      print(\"color:\",self.color)\n",
        "\n",
        "v3 = vehicle(\"Mahindra\", \"Thar\", 2025, \"black\")\n",
        "v4 = vehicle(\"Ford\", \"Mustang\", 2023, \"red\")\n",
        "v5 = vehicle(\"Toyota\", \"Camry\", 2022, \"blue\")\n",
        "\n",
        "v3.start()\n",
        "print(\"***********************************\")\n",
        "v3.display_infor()\n",
        "print(\"______________________________________\")\n",
        "\n",
        "v4.start()\n",
        "print(\"***********************************\")\n",
        "v4.display_infor()\n",
        "print(\"______________________________________\")\n",
        "\n",
        "v5.start()\n",
        "print(\"***********************************\")\n",
        "v5.display_infor()\n",
        "print(\"______________________________________\")\n",
        "\n"
      ],
      "metadata": {
        "colab": {
          "base_uri": "https://localhost:8080/"
        },
        "id": "CEWyAeldVnrh",
        "outputId": "0a4f38b9-7a3a-4e4a-e46b-822bdaff04ff"
      },
      "execution_count": 33,
      "outputs": [
        {
          "output_type": "stream",
          "name": "stdout",
          "text": [
            "black Mahindra Thar is starting\n",
            "***********************************\n",
            "Make: Mahindra\n",
            "Model: Thar\n",
            "Year: 2025\n",
            "color: black\n",
            "______________________________________\n",
            "red Ford Mustang is starting\n",
            "***********************************\n",
            "Make: Ford\n",
            "Model: Mustang\n",
            "Year: 2023\n",
            "color: red\n",
            "______________________________________\n",
            "blue Toyota Camry is starting\n",
            "***********************************\n",
            "Make: Toyota\n",
            "Model: Camry\n",
            "Year: 2022\n",
            "color: blue\n",
            "______________________________________\n"
          ]
        }
      ]
    }
  ]
}