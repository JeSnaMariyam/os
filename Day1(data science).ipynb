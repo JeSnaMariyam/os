{
  "nbformat": 4,
  "nbformat_minor": 0,
  "metadata": {
    "colab": {
      "provenance": [],
      "authorship_tag": "ABX9TyOq4AcKJwIZwVDQA1dI3W4H",
      "include_colab_link": true
    },
    "kernelspec": {
      "name": "python3",
      "display_name": "Python 3"
    },
    "language_info": {
      "name": "python"
    }
  },
  "cells": [
    {
      "cell_type": "markdown",
      "metadata": {
        "id": "view-in-github",
        "colab_type": "text"
      },
      "source": [
        "<a href=\"https://colab.research.google.com/github/JeSnaMariyam/os/blob/main/Day1(data%20science).ipynb\" target=\"_parent\"><img src=\"https://colab.research.google.com/assets/colab-badge.svg\" alt=\"Open In Colab\"/></a>"
      ]
    },
    {
      "cell_type": "markdown",
      "source": [
        "# **Introduction to python**\n",
        "###1.variables and data types\n",
        "variable store data and python can automatically determine the type of data based on thhe value you assign.\n"
      ],
      "metadata": {
        "id": "09HU0gqT-cPJ"
      }
    },
    {
      "cell_type": "code",
      "execution_count": 10,
      "metadata": {
        "colab": {
          "base_uri": "https://localhost:8080/"
        },
        "id": "ig5nButM9RrA",
        "outputId": "08b30a55-6f67-43eb-c05e-e3aeea41b7e1"
      },
      "outputs": [
        {
          "output_type": "stream",
          "name": "stdout",
          "text": [
            "age is: 25\n",
            "height is: 123.5 cm\n",
            "data type of age is: <class 'int'>\n",
            "the height of jess is 123.5 in cms and age is 25 year.\n"
          ]
        }
      ],
      "source": [
        "age=25 #integer\n",
        "height=123.5 #float\n",
        "name=\"jess\" #string\n",
        "is_student = True #boolean(true or false)\n",
        "\n",
        "\n",
        "print(\"age is:\",age)\n",
        "print(\"height is:\",height,\"cm\")\n",
        "print(\"data type of age is:\",type(age))\n",
        "print(\"the height of\",name,\"is\",height,\"in cms and age is\",age,\"year.\")"
      ]
    },
    {
      "cell_type": "markdown",
      "source": [
        "### 2.basic operations\n"
      ],
      "metadata": {
        "id": "-8hbt345Ccl9"
      }
    },
    {
      "cell_type": "code",
      "source": [
        "#addition\n",
        "x=10\n",
        "y=3\n",
        "sum = x+y\n",
        "sub= x-y\n",
        "print(\"sum:\",sum)\n",
        "print(\"sub=\",sub)\n",
        "#or the below method\n",
        "print(x,\"+\",y,\"=\",x+y)\n",
        "print(x,\"-\",y,\"=\",x-y)\n",
        "print(y,\"-\",x,\"=\",y-x)\n",
        "print(x,\"*\",y,\"=\",x*y)\n",
        "print(x,\"/\",y,\"=\",x/y)\n",
        "print(x,\"%\",y,\"=\",x%y) # [modulus fn:] 10/3 remainder will be 1\n",
        "print(x,\"**\",y,\"=\",x**y)\n",
        "print(x,\"//\",y,\"=\",x//y) # (10/3=3.333)only returns the whole no; from divion ie=3\n",
        "\n",
        " #take x=10 and y=3. perform the above operations\n",
        ""
      ],
      "metadata": {
        "colab": {
          "base_uri": "https://localhost:8080/"
        },
        "id": "62zyRXkiCbzS",
        "outputId": "435663ce-c5ab-437b-9020-3d5cb7f84ca0"
      },
      "execution_count": 22,
      "outputs": [
        {
          "output_type": "stream",
          "name": "stdout",
          "text": [
            "sum: 13\n",
            "sub= 7\n",
            "10 + 3 = 13\n",
            "10 - 3 = 7\n",
            "3 - 10 = -7\n",
            "10 * 3 = 30\n",
            "10 / 3 = 3.3333333333333335\n",
            "10 % 3 = 1\n",
            "10 ** 3 = 1000\n",
            "10 // 3 = 3\n"
          ]
        }
      ]
    },
    {
      "cell_type": "code",
      "source": [
        "#hw1\n",
        "name=\"Suma\"\n",
        "maths=76\n",
        "social=85\n",
        "science=96\n",
        "english=92\n",
        "avg=(maths+social+science+english)/4\n",
        "print(name,\"scored\",maths,\"in maths,\",social,\"in social,\",science,\"in science and\",english,\"in english.\")\n",
        "print(\"avg of suma=\",avg)"
      ],
      "metadata": {
        "colab": {
          "base_uri": "https://localhost:8080/"
        },
        "id": "T9WF7UjeILVT",
        "outputId": "eef82723-e9bd-416a-d3e5-b7680d63d556"
      },
      "execution_count": 23,
      "outputs": [
        {
          "output_type": "stream",
          "name": "stdout",
          "text": [
            "Suma scored 76 in maths, 85 in social, 96 in science and 92 in english.\n",
            "avg of suma= 87.25\n"
          ]
        }
      ]
    },
    {
      "cell_type": "code",
      "source": [
        "#hw2\n",
        "w1=14\n",
        "w2=56\n",
        "diff=56-14\n",
        "print(\"Anil has\",w1,\"kg rice and Sumesh bought\",w2,\"kg rice.\")\n",
        "print(\"Amount that Sumesh's rice weigh than Ani is:\",diff)"
      ],
      "metadata": {
        "colab": {
          "base_uri": "https://localhost:8080/"
        },
        "id": "GIAxAe0-JcyV",
        "outputId": "40e2fc60-ea7d-4bc2-9060-07b22fe6aa9b"
      },
      "execution_count": 25,
      "outputs": [
        {
          "output_type": "stream",
          "name": "stdout",
          "text": [
            "Anil has 14 kg rice and Sumesh bought 56 kg rice.\n",
            "Amount that Sumesh's rice weigh than Ani is: 42\n"
          ]
        }
      ]
    },
    {
      "cell_type": "markdown",
      "source": [
        "###hw3\n",
        "###x=50, y=-40, z=-21, p=3\n",
        "####perform:\n",
        "###1. x-y+z\n",
        "###2. x^p + y\n",
        "###3. floor division of(x-y) with p\n",
        "###4. modulus of (x=y) with z\n",
        "\n",
        "\n",
        "\n",
        "\n",
        "\n"
      ],
      "metadata": {
        "id": "7SsLH4fqLTvZ"
      }
    },
    {
      "cell_type": "code",
      "source": [
        "#1.\n",
        "x=50\n",
        "y=-40\n",
        "z=-21\n",
        "p=3\n",
        "#1. x,\"-\",y,\"+\",z,\"=\"\n",
        "#2. x,\"^\",p,\"+\",z,\"=\"\n",
        "#3. \"(\",x,\"-\",y,\"//)\",p,\"=\"\n",
        "#4. \"(\",x,\"+\",y,\")%\",z,\"=\"\n",
        "print(\"x-y+z=\",x-y+z)\n",
        "\n",
        "#2.\n",
        "print(\"x^p +y=\",x*y+z)\n",
        "\n",
        "#3\n",
        "print(\"(x-y)//p=\",(x-y)//p)\n",
        "\n",
        "#4\n",
        "print(\"(x+y)%z\",(x+y)%z)\n"
      ],
      "metadata": {
        "colab": {
          "base_uri": "https://localhost:8080/"
        },
        "id": "8Sh2tpe6MYgM",
        "outputId": "b31d75c8-cd96-4e77-e906-678030c61b99"
      },
      "execution_count": 40,
      "outputs": [
        {
          "output_type": "stream",
          "name": "stdout",
          "text": [
            "x-y+z= 69\n",
            "x^p +y= -2021\n",
            "(x-y)//p= 30\n",
            "(x+y)%z -11\n"
          ]
        }
      ]
    }
  ]
}