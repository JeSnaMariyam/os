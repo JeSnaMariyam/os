{
  "nbformat": 4,
  "nbformat_minor": 0,
  "metadata": {
    "colab": {
      "provenance": [],
      "authorship_tag": "ABX9TyO0DcvpQwua7dj378ZN36Xb",
      "include_colab_link": true
    },
    "kernelspec": {
      "name": "python3",
      "display_name": "Python 3"
    },
    "language_info": {
      "name": "python"
    }
  },
  "cells": [
    {
      "cell_type": "markdown",
      "metadata": {
        "id": "view-in-github",
        "colab_type": "text"
      },
      "source": [
        "<a href=\"https://colab.research.google.com/github/JeSnaMariyam/os/blob/main/Day5.ipynb\" target=\"_parent\"><img src=\"https://colab.research.google.com/assets/colab-badge.svg\" alt=\"Open In Colab\"/></a>"
      ]
    },
    {
      "cell_type": "code",
      "source": [],
      "metadata": {
        "id": "dcdlbXwWq4kB"
      },
      "execution_count": null,
      "outputs": []
    },
    {
      "cell_type": "markdown",
      "source": [
        "# **Functions**\n",
        "\n",
        "---\n",
        "\n",
        "\n",
        "Functions are nothing but blocks of reusable code that perform a partticular task.\n",
        "\n",
        "They help to organize the code into manageable section\n",
        "\n",
        "\n",
        "\n",
        "1.   **purpose:** allows u to write the code just once and use it multiple times.\n",
        "\n",
        "2. **Structure:** typicaly starts of by taking i/p, process it and returns an o/p.  \n",
        "\n",
        "\n",
        "*   **Built-in-functions**\n",
        "*   ***user defined functions ***\n",
        "\n",
        "\n",
        "\n",
        "\n"
      ],
      "metadata": {
        "id": "XQEW_IuRpq30"
      }
    },
    {
      "cell_type": "markdown",
      "source": [
        "### **built-in-fuction**\n",
        "1. input()\n",
        "2. print()\n",
        "3.int(), float(),str()\n",
        "4.len(), max(), min()\n"
      ],
      "metadata": {
        "id": "1rPc3vLnrV0T"
      }
    },
    {
      "cell_type": "markdown",
      "source": [
        "### **User defined functions**\n",
        "u can create ur own functions to perform  specific tasks in ur own pgm."
      ],
      "metadata": {
        "id": "ei9p1O4urpTz"
      }
    },
    {
      "cell_type": "markdown",
      "source": [
        "## **create functions and function calling**\n",
        "\n",
        "---\n",
        "\n",
        "\n",
        "\n",
        "## 1. **creating functions:**\n",
        "\n",
        "* **defining the function**   *def *keyword followed by the *name of the fuction* and the ( )\n",
        "\n",
        "\n",
        "eg: def simple_interest()\n",
        "  \n",
        "*  **add parameters** (optional): inside the (), u can define the parameters\n",
        "\n",
        "eg: def simple_interest(principal,roi)\n",
        "\n",
        "* **Function body:** it will be \"tab\" space away frm the margin under the fn: definition. this is where u'll write the code that the fn: shouyld perform.\n",
        "\n",
        "* **Return statement:** (optional) use to return a value frm the main fn: to the pgm.\n",
        "\n",
        "\n",
        "\n",
        "\n",
        "\n",
        "\n",
        "\n",
        "\n",
        "\n",
        "\n",
        "\n"
      ],
      "metadata": {
        "id": "1xAi6cNMsCRq"
      }
    },
    {
      "cell_type": "code",
      "execution_count": 1,
      "metadata": {
        "id": "ot-F4sC8nXcz"
      },
      "outputs": [],
      "source": [
        "def greet(name): #function definition with one parameter\n",
        "  print(\"Hello\",name)\n",
        "  print(\"how r you\")"
      ]
    },
    {
      "cell_type": "markdown",
      "source": [
        "## 2**.calling the function**\n",
        "to call a fn:, write its function name followed by ( )\n",
        "\n",
        "funtion_name()\n",
        "\n",
        "\n",
        "*  if the fn: has parameters, pass arguments inside the( )\n",
        "*  \n",
        "\n"
      ],
      "metadata": {
        "id": "gGv_GjScubTl"
      }
    },
    {
      "cell_type": "code",
      "source": [
        "greet(\"jesna\")"
      ],
      "metadata": {
        "colab": {
          "base_uri": "https://localhost:8080/"
        },
        "id": "CPEZVz6hvBvh",
        "outputId": "033144e1-8449-4e63-aecb-dbb7310b26fb"
      },
      "execution_count": 3,
      "outputs": [
        {
          "output_type": "stream",
          "name": "stdout",
          "text": [
            "Hello jesna\n",
            "how r you\n"
          ]
        }
      ]
    },
    {
      "cell_type": "markdown",
      "source": [
        "## 3. **Return state**\n",
        "The return statement in python is used in a function to send a value back to the place where the function was called."
      ],
      "metadata": {
        "id": "dtOEau3Evecf"
      }
    },
    {
      "cell_type": "markdown",
      "source": [
        "### Types of Functions\n",
        "\n",
        "---\n",
        "1. Type 1: function() and no return values\n",
        "2. Type 2: function(*p1,p2,p3*) and no return value\n",
        "3. Type 3: function(*p1,p2,p3*) and *return* value\n",
        "\n"
      ],
      "metadata": {
        "id": "FGiHT8hpwLi4"
      }
    },
    {
      "cell_type": "markdown",
      "source": [
        "**type1: function() with no parameters nor return type**"
      ],
      "metadata": {
        "id": "u3-PakGuw4KK"
      }
    },
    {
      "cell_type": "code",
      "source": [
        "#waf to print \"hello, welcome to python\"\n",
        "\n",
        "#def the function\n",
        "def print_hello():\n",
        "  print(\"hello, welcome to python\")\n",
        "\n",
        "#call the function\n",
        "print_hello()\n",
        "print(5)\n",
        "print_hello()"
      ],
      "metadata": {
        "colab": {
          "base_uri": "https://localhost:8080/"
        },
        "id": "TTlWklN0v-29",
        "outputId": "b9fa40d8-b1e3-4fa0-bb8a-69b115d28c58"
      },
      "execution_count": 4,
      "outputs": [
        {
          "output_type": "stream",
          "name": "stdout",
          "text": [
            "hello, welcome to python\n",
            "5\n",
            "hello, welcome to python\n"
          ]
        }
      ]
    },
    {
      "cell_type": "code",
      "source": [
        "#waf tp print todays date\n",
        "from datetime import date\n",
        "\n",
        "#define the fn;\n",
        "def print_date():\n",
        "  today = date.today()\n",
        "  print(\"Todays date is:\",today)\n",
        "\n",
        "#call the function\n",
        "print_date()"
      ],
      "metadata": {
        "colab": {
          "base_uri": "https://localhost:8080/"
        },
        "id": "s7gmSBRjxku3",
        "outputId": "64ef4b83-0d85-419f-c756-eabdab2ea098"
      },
      "execution_count": 6,
      "outputs": [
        {
          "output_type": "stream",
          "name": "stdout",
          "text": [
            "Todays date is: 2024-10-30\n"
          ]
        }
      ]
    },
    {
      "cell_type": "code",
      "source": [
        "# waf to display even numbers from 1 to 25 using function\n",
        "def even_number():\n",
        "  for n in range(1,26):\n",
        "    if n%2==0:\n",
        "      print(n,end=\" \")\n",
        "\n",
        "#call the fn;\n",
        "even_number()\n"
      ],
      "metadata": {
        "colab": {
          "base_uri": "https://localhost:8080/"
        },
        "id": "AwnBHjNHyfx3",
        "outputId": "5ec88d6f-c3d8-4d0c-c8ab-dc1ef4dadd6c"
      },
      "execution_count": 7,
      "outputs": [
        {
          "output_type": "stream",
          "name": "stdout",
          "text": [
            "2 4 6 8 10 12 14 16 18 20 22 24 "
          ]
        }
      ]
    },
    {
      "cell_type": "markdown",
      "source": [
        "### **Type2:  Functions with parameters and no return type**"
      ],
      "metadata": {
        "id": "K-89aplK0JHA"
      }
    },
    {
      "cell_type": "code",
      "source": [
        "#def the fn;\n",
        "def fn_name(p1,p2):\n",
        "  print(p1,p2)\n",
        "\n",
        "#calll the fn;\n",
        "fn_name(10,20)"
      ],
      "metadata": {
        "colab": {
          "base_uri": "https://localhost:8080/"
        },
        "id": "10jym2xl0ID0",
        "outputId": "ea26276e-4636-4734-f177-530648b0e950"
      },
      "execution_count": 8,
      "outputs": [
        {
          "output_type": "stream",
          "name": "stdout",
          "text": [
            "10 20\n"
          ]
        }
      ]
    },
    {
      "cell_type": "code",
      "source": [
        "#addd to nos; using function\n",
        "def  sum(a,b):\n",
        "  print(\"The sum is:\",a+b)\n",
        "\n",
        "#fn; calll\n",
        "sum(4,6)\n",
        "sum(10,25)"
      ],
      "metadata": {
        "colab": {
          "base_uri": "https://localhost:8080/"
        },
        "id": "RAkjIFJq0l8S",
        "outputId": "5c2d1637-5824-48a5-ce40-bad1423f92e6"
      },
      "execution_count": 10,
      "outputs": [
        {
          "output_type": "stream",
          "name": "stdout",
          "text": [
            "The sum is: 10\n",
            "The sum is: 35\n"
          ]
        }
      ]
    },
    {
      "cell_type": "code",
      "source": [
        "#  write a function to print the multiplication table of 5\n",
        "def mul_tab(num):\n",
        "  start = 1\n",
        "  while start<=10:\n",
        "    print(num,\"x\",start,\"=\",num*start)\n",
        "    start = start+1\n",
        "\n",
        "# call fn;\n",
        "mul_tab(5)\n",
        "print(\"_______\")\n",
        "mul_tab(10)\n"
      ],
      "metadata": {
        "colab": {
          "base_uri": "https://localhost:8080/"
        },
        "id": "3P8IpXcB0_kn",
        "outputId": "e1d1258b-91ae-4def-9503-c0a7e17dc230"
      },
      "execution_count": 14,
      "outputs": [
        {
          "output_type": "stream",
          "name": "stdout",
          "text": [
            "5 x 1 = 5\n",
            "5 x 2 = 10\n",
            "5 x 3 = 15\n",
            "5 x 4 = 20\n",
            "5 x 5 = 25\n",
            "5 x 6 = 30\n",
            "5 x 7 = 35\n",
            "5 x 8 = 40\n",
            "5 x 9 = 45\n",
            "5 x 10 = 50\n",
            "_______\n",
            "10 x 1 = 10\n",
            "10 x 2 = 20\n",
            "10 x 3 = 30\n",
            "10 x 4 = 40\n",
            "10 x 5 = 50\n",
            "10 x 6 = 60\n",
            "10 x 7 = 70\n",
            "10 x 8 = 80\n",
            "10 x 9 = 90\n",
            "10 x 10 = 100\n"
          ]
        }
      ]
    },
    {
      "cell_type": "code",
      "source": [
        "#write a function to check whether the number is even or odd\n",
        "def odd_even(num):\n",
        "  if num%2==0:\n",
        "    print(num,\"is even\")\n",
        "  else:\n",
        "    print(num,\"is odd\")\n",
        "\n",
        "#call the fn;\n",
        "odd_even(7)\n",
        "odd_even(12)\n",
        "\n",
        ""
      ],
      "metadata": {
        "colab": {
          "base_uri": "https://localhost:8080/"
        },
        "id": "4GKswGKM3T9s",
        "outputId": "b1474a36-c989-4649-83be-9132bf27f500"
      },
      "execution_count": 17,
      "outputs": [
        {
          "output_type": "stream",
          "name": "stdout",
          "text": [
            "7 is odd\n",
            "12 is even\n"
          ]
        }
      ]
    },
    {
      "cell_type": "markdown",
      "source": [
        "### **Type3: Functionn with parameters and return type**\n"
      ],
      "metadata": {
        "id": "__j60d745pCN"
      }
    },
    {
      "cell_type": "code",
      "source": [
        "#define fn;\n",
        "def  function_name(p1,p2):\n",
        "  final_val=(p1*10)-(2*p2)\n",
        "  return  final_val\n",
        "\n",
        "#call fn;\n",
        "result=function_name(12,19)\n",
        "print(result)\n",
        "result=function_name(10,20)\n",
        "print(result)\n"
      ],
      "metadata": {
        "colab": {
          "base_uri": "https://localhost:8080/"
        },
        "id": "EeMmAXn25yPp",
        "outputId": "e73ce4a0-edfc-41e3-f0aa-26c3381e0475"
      },
      "execution_count": 19,
      "outputs": [
        {
          "output_type": "stream",
          "name": "stdout",
          "text": [
            "82\n",
            "60\n"
          ]
        }
      ]
    },
    {
      "cell_type": "code",
      "source": [
        "#calculate the squares of a number\n",
        "def square(num):\n",
        "  return num**2\n",
        "\n",
        "#call fn;\n",
        "print('Square of 5:',square(5))\n",
        "print(\"square of  -2:\",square(-2))\n",
        "final_val=square_num\n"
      ],
      "metadata": {
        "id": "yZg1GKjd6kxB"
      },
      "execution_count": null,
      "outputs": []
    },
    {
      "cell_type": "code",
      "source": [
        "# use function to return the maximum of two numbers given by a user\n",
        "def max_num(n1, n2):\n",
        "  if n1>n2:\n",
        "    return  n1\n",
        "  else:\n",
        "    return n2\n",
        "\n",
        "  # call fn;\n",
        "a = int(input(\"The value of n1:\"))\n",
        "b = int(input(\"the value of n2:\"))\n",
        "print(\"The maximum of 2 nos is:\",max_num(n1, n2))\n",
        "\n",
        "\n",
        "\n",
        "\n"
      ],
      "metadata": {
        "colab": {
          "base_uri": "https://localhost:8080/",
          "height": 356
        },
        "id": "A5IB1_xP7Mac",
        "outputId": "098352c2-f935-440d-9011-d6fdd6d9c106"
      },
      "execution_count": 31,
      "outputs": [
        {
          "output_type": "error",
          "ename": "KeyboardInterrupt",
          "evalue": "Interrupted by user",
          "traceback": [
            "\u001b[0;31m---------------------------------------------------------------------------\u001b[0m",
            "\u001b[0;31mKeyboardInterrupt\u001b[0m                         Traceback (most recent call last)",
            "\u001b[0;32m<ipython-input-31-a945ed252806>\u001b[0m in \u001b[0;36m<cell line: 9>\u001b[0;34m()\u001b[0m\n\u001b[1;32m      7\u001b[0m \u001b[0;34m\u001b[0m\u001b[0m\n\u001b[1;32m      8\u001b[0m   \u001b[0;31m# call fn;\u001b[0m\u001b[0;34m\u001b[0m\u001b[0;34m\u001b[0m\u001b[0m\n\u001b[0;32m----> 9\u001b[0;31m \u001b[0ma\u001b[0m \u001b[0;34m=\u001b[0m \u001b[0mint\u001b[0m\u001b[0;34m(\u001b[0m\u001b[0minput\u001b[0m\u001b[0;34m(\u001b[0m\u001b[0;34m\"The value of n1:\"\u001b[0m\u001b[0;34m)\u001b[0m\u001b[0;34m)\u001b[0m\u001b[0;34m\u001b[0m\u001b[0;34m\u001b[0m\u001b[0m\n\u001b[0m\u001b[1;32m     10\u001b[0m \u001b[0mb\u001b[0m \u001b[0;34m=\u001b[0m \u001b[0mint\u001b[0m\u001b[0;34m(\u001b[0m\u001b[0minput\u001b[0m\u001b[0;34m(\u001b[0m\u001b[0;34m\"the value of n2:\"\u001b[0m\u001b[0;34m)\u001b[0m\u001b[0;34m)\u001b[0m\u001b[0;34m\u001b[0m\u001b[0;34m\u001b[0m\u001b[0m\n\u001b[1;32m     11\u001b[0m \u001b[0mprint\u001b[0m\u001b[0;34m(\u001b[0m\u001b[0;34m\"The maximum of 2 nos is:\"\u001b[0m\u001b[0;34m,\u001b[0m\u001b[0mmax_num\u001b[0m\u001b[0;34m(\u001b[0m\u001b[0mn1\u001b[0m\u001b[0;34m,\u001b[0m \u001b[0mn2\u001b[0m\u001b[0;34m)\u001b[0m\u001b[0;34m)\u001b[0m\u001b[0;34m\u001b[0m\u001b[0;34m\u001b[0m\u001b[0m\n",
            "\u001b[0;32m/usr/local/lib/python3.10/dist-packages/ipykernel/kernelbase.py\u001b[0m in \u001b[0;36mraw_input\u001b[0;34m(self, prompt)\u001b[0m\n\u001b[1;32m    849\u001b[0m                 \u001b[0;34m\"raw_input was called, but this frontend does not support input requests.\"\u001b[0m\u001b[0;34m\u001b[0m\u001b[0;34m\u001b[0m\u001b[0m\n\u001b[1;32m    850\u001b[0m             )\n\u001b[0;32m--> 851\u001b[0;31m         return self._input_request(str(prompt),\n\u001b[0m\u001b[1;32m    852\u001b[0m             \u001b[0mself\u001b[0m\u001b[0;34m.\u001b[0m\u001b[0m_parent_ident\u001b[0m\u001b[0;34m,\u001b[0m\u001b[0;34m\u001b[0m\u001b[0;34m\u001b[0m\u001b[0m\n\u001b[1;32m    853\u001b[0m             \u001b[0mself\u001b[0m\u001b[0;34m.\u001b[0m\u001b[0m_parent_header\u001b[0m\u001b[0;34m,\u001b[0m\u001b[0;34m\u001b[0m\u001b[0;34m\u001b[0m\u001b[0m\n",
            "\u001b[0;32m/usr/local/lib/python3.10/dist-packages/ipykernel/kernelbase.py\u001b[0m in \u001b[0;36m_input_request\u001b[0;34m(self, prompt, ident, parent, password)\u001b[0m\n\u001b[1;32m    893\u001b[0m             \u001b[0;32mexcept\u001b[0m \u001b[0mKeyboardInterrupt\u001b[0m\u001b[0;34m:\u001b[0m\u001b[0;34m\u001b[0m\u001b[0;34m\u001b[0m\u001b[0m\n\u001b[1;32m    894\u001b[0m                 \u001b[0;31m# re-raise KeyboardInterrupt, to truncate traceback\u001b[0m\u001b[0;34m\u001b[0m\u001b[0;34m\u001b[0m\u001b[0m\n\u001b[0;32m--> 895\u001b[0;31m                 \u001b[0;32mraise\u001b[0m \u001b[0mKeyboardInterrupt\u001b[0m\u001b[0;34m(\u001b[0m\u001b[0;34m\"Interrupted by user\"\u001b[0m\u001b[0;34m)\u001b[0m \u001b[0;32mfrom\u001b[0m \u001b[0;32mNone\u001b[0m\u001b[0;34m\u001b[0m\u001b[0;34m\u001b[0m\u001b[0m\n\u001b[0m\u001b[1;32m    896\u001b[0m             \u001b[0;32mexcept\u001b[0m \u001b[0mException\u001b[0m \u001b[0;32mas\u001b[0m \u001b[0me\u001b[0m\u001b[0;34m:\u001b[0m\u001b[0;34m\u001b[0m\u001b[0;34m\u001b[0m\u001b[0m\n\u001b[1;32m    897\u001b[0m                 \u001b[0mself\u001b[0m\u001b[0;34m.\u001b[0m\u001b[0mlog\u001b[0m\u001b[0;34m.\u001b[0m\u001b[0mwarning\u001b[0m\u001b[0;34m(\u001b[0m\u001b[0;34m\"Invalid Message:\"\u001b[0m\u001b[0;34m,\u001b[0m \u001b[0mexc_info\u001b[0m\u001b[0;34m=\u001b[0m\u001b[0;32mTrue\u001b[0m\u001b[0;34m)\u001b[0m\u001b[0;34m\u001b[0m\u001b[0;34m\u001b[0m\u001b[0m\n",
            "\u001b[0;31mKeyboardInterrupt\u001b[0m: Interrupted by user"
          ]
        }
      ]
    },
    {
      "cell_type": "code",
      "source": [
        "#print the factorial of a number\n",
        "#type 1:no parameters, no return type\n",
        "def fact_mthd1():\n",
        "  n=int(input(\"Enter a number:\"))\n",
        "  fact1=1\n",
        "  for i in range(1,n+1):\n",
        "    fact1=fact1*i\n",
        "  print(\"factorial of\",n,\"is\",fact1)\n",
        "\n",
        "fact_mthd1()"
      ],
      "metadata": {
        "colab": {
          "base_uri": "https://localhost:8080/"
        },
        "id": "PZCbqXM799kg",
        "outputId": "1656d6d8-06bf-4c17-c803-fc85c5e22ce7"
      },
      "execution_count": 40,
      "outputs": [
        {
          "output_type": "stream",
          "name": "stdout",
          "text": [
            "Enter a number:4\n",
            "factorial of 4 is 24\n"
          ]
        }
      ]
    },
    {
      "cell_type": "code",
      "source": [
        "#Type 2: parameters, no return type\n",
        "def fact_mthd2(n):\n",
        "  fact2=1\n",
        "  for i in range(1,n+1):\n",
        "    fact2=fact2*i\n",
        "  print(\"factorial of\",n,\"is\",fact2)\n",
        "\n",
        "fact_mthd2(5)\n"
      ],
      "metadata": {
        "colab": {
          "base_uri": "https://localhost:8080/"
        },
        "id": "SpBOmWrC-eOG",
        "outputId": "17bece40-7b9f-4892-8e9d-31e0e8789434"
      },
      "execution_count": 35,
      "outputs": [
        {
          "output_type": "stream",
          "name": "stdout",
          "text": [
            "factorial of 5 is 120\n"
          ]
        }
      ]
    },
    {
      "cell_type": "code",
      "source": [
        "#Type3 parameters and return type\n",
        "def fact_mthd3(n):\n",
        "  fact3=1\n",
        "  for i in range(1,n+1):\n",
        "    fact3=fact3*i\n",
        "\n",
        "  return fact3\n",
        "\n",
        "print(\"factorial of 5 is:\",fact_mthd3(5))"
      ],
      "metadata": {
        "colab": {
          "base_uri": "https://localhost:8080/"
        },
        "id": "ZOEQcMFJ-uBf",
        "outputId": "1c91bcb9-4525-4928-cc8d-0f37e1ca2aa4"
      },
      "execution_count": 37,
      "outputs": [
        {
          "output_type": "stream",
          "name": "stdout",
          "text": [
            "factorial of 5 is: 120\n"
          ]
        }
      ]
    },
    {
      "cell_type": "code",
      "source": [
        "#Q. function(of all 3 types) to find product of three nos; given by the user\n",
        "# type1: no parameters, no return type\n",
        "\n",
        "def product():\n",
        "  n1=int(input(\"Enter the value of n1:\"))\n",
        "  n2=int(input(\"Enter the value of n2:\"))\n",
        "  n3=int(input(\"Enter the value of n3:\"))\n",
        "  print(\"The product of 3 nos is:\",n1*n2*n3)\n",
        "\n",
        "product()\n"
      ],
      "metadata": {
        "colab": {
          "base_uri": "https://localhost:8080/"
        },
        "id": "HuEdjjFRABow",
        "outputId": "e503d068-6517-4a65-adaa-1e2564974602"
      },
      "execution_count": 41,
      "outputs": [
        {
          "output_type": "stream",
          "name": "stdout",
          "text": [
            "Enter the value of n1:1\n",
            "Enter the value of n2:5\n",
            "Enter the value of n3:10\n",
            "The product of 3 nos is: 50\n"
          ]
        }
      ]
    },
    {
      "cell_type": "code",
      "source": [
        "#type2; parameter with no return type\n",
        "\n",
        "def product(n1,n2,n3):\n",
        "  print(\"The product of 3 nos is:\",n1*n2*n3)\n",
        "\n",
        "product(7,10,2)"
      ],
      "metadata": {
        "colab": {
          "base_uri": "https://localhost:8080/"
        },
        "id": "4tFzFiVbAdUV",
        "outputId": "1fcbd6d0-a495-4ff0-cc00-a88cdcc8dc21"
      },
      "execution_count": 42,
      "outputs": [
        {
          "output_type": "stream",
          "name": "stdout",
          "text": [
            "The product of 3 nos is: 140\n"
          ]
        }
      ]
    },
    {
      "cell_type": "code",
      "source": [
        "#3. parameter with return type\n",
        "\n",
        "def product(n1,n2,n3):\n",
        "  return n1*n2*n3\n",
        "\n",
        "print(\"The product of 3 nos is:\",product(10,20,30))"
      ],
      "metadata": {
        "colab": {
          "base_uri": "https://localhost:8080/"
        },
        "id": "QtaZE9IpApQA",
        "outputId": "4e95e9b4-9851-4743-fafb-d4e88f2105a7"
      },
      "execution_count": 43,
      "outputs": [
        {
          "output_type": "stream",
          "name": "stdout",
          "text": [
            "The product of 3 nos is: 6000\n"
          ]
        }
      ]
    }
  ]
}