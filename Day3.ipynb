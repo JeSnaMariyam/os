{
  "nbformat": 4,
  "nbformat_minor": 0,
  "metadata": {
    "colab": {
      "provenance": [],
      "toc_visible": true,
      "authorship_tag": "ABX9TyOqJyICfiP7nluhK2P3cbiv",
      "include_colab_link": true
    },
    "kernelspec": {
      "name": "python3",
      "display_name": "Python 3"
    },
    "language_info": {
      "name": "python"
    }
  },
  "cells": [
    {
      "cell_type": "markdown",
      "metadata": {
        "id": "view-in-github",
        "colab_type": "text"
      },
      "source": [
        "<a href=\"https://colab.research.google.com/github/JeSnaMariyam/os/blob/main/Day3.ipynb\" target=\"_parent\"><img src=\"https://colab.research.google.com/assets/colab-badge.svg\" alt=\"Open In Colab\"/></a>"
      ]
    },
    {
      "cell_type": "markdown",
      "source": [
        "## **for** **LOOP**\n",
        "\n",
        "\n",
        "---\n",
        "\n",
        "\n",
        "### SYNTAX:\n",
        "for inter in sequence:\n",
        "  #code block to perform action\n",
        "\n",
        "\n",
        "*   iter: represents each item in the sequence.\n",
        "*   sequence: list, tuple, string\n",
        "\n"
      ],
      "metadata": {
        "id": "GzDlDQrWWg3h"
      }
    },
    {
      "cell_type": "markdown",
      "source": [
        "## **range()**\n",
        "generates a sequence of numbers.\n",
        "\n",
        "\n",
        "*  range(n) nos; from 0 to n-1\n",
        "*  range(start_value,stop_value): nos; from start to (stop-1)\n",
        "\n",
        "eg: range(10,15): 10,11,12,13,14\n",
        "\n",
        "\n",
        "\n",
        "* range(start,stop,step): addds the ability to specify the incrementing step.\n",
        "\n",
        "eg: range(1,20,3): 1,4,7,10,13,16,19  \n",
        "\n",
        "\n",
        "\n",
        "\n",
        "\n"
      ],
      "metadata": {
        "id": "wO27ODb4X4WV"
      }
    },
    {
      "cell_type": "code",
      "execution_count": 3,
      "metadata": {
        "colab": {
          "base_uri": "https://localhost:8080/"
        },
        "id": "4fzprOCGQIGK",
        "outputId": "a0c6bcb9-0fc7-4a6c-b338-ee4e2af5e203"
      },
      "outputs": [
        {
          "output_type": "stream",
          "name": "stdout",
          "text": [
            "o *\n",
            "c *\n",
            "t *\n",
            "o *\n",
            "b *\n",
            "e *\n",
            "r *\n",
            "----\n"
          ]
        }
      ],
      "source": [
        "#iterate and print each character in the string\n",
        "str1=\"october\"\n",
        "for iter in str1:\n",
        "  print(iter,\"*\")\n",
        "print(\"----\")"
      ]
    },
    {
      "cell_type": "code",
      "source": [
        "#traverse over collection of nos; list[10,20,30,40]\n",
        "list1=[10,20,30,40]\n",
        "for num in list1:\n",
        "  print(num+5)\n",
        "print(\"****\")"
      ],
      "metadata": {
        "colab": {
          "base_uri": "https://localhost:8080/"
        },
        "id": "AMwCGZ7Uahmr",
        "outputId": "a6401390-4d6f-4e91-8c48-2afb0b77f18d"
      },
      "execution_count": 4,
      "outputs": [
        {
          "output_type": "stream",
          "name": "stdout",
          "text": [
            "15\n",
            "25\n",
            "35\n",
            "45\n",
            "****\n"
          ]
        }
      ]
    },
    {
      "cell_type": "code",
      "source": [
        "#3. print hello 5 times\n",
        "for i in range(5): #range=0,1,2,3,4\n",
        "  print(\"Hello\")"
      ],
      "metadata": {
        "colab": {
          "base_uri": "https://localhost:8080/"
        },
        "id": "IV-QwejEbHYn",
        "outputId": "bc365046-18f3-482f-f197-04ad6022cde1"
      },
      "execution_count": 5,
      "outputs": [
        {
          "output_type": "stream",
          "name": "stdout",
          "text": [
            "Hello\n",
            "Hello\n",
            "Hello\n",
            "Hello\n",
            "Hello\n"
          ]
        }
      ]
    },
    {
      "cell_type": "code",
      "source": [
        "# print nos; from 1 t0 10\n",
        "for i in range(1,11):\n",
        "  print(i)\n",
        "\n",
        "\n"
      ],
      "metadata": {
        "colab": {
          "base_uri": "https://localhost:8080/"
        },
        "id": "B2PKM5mPcl2_",
        "outputId": "10085b2f-9c1a-47f6-d4fc-502a6c0fcfa6"
      },
      "execution_count": 10,
      "outputs": [
        {
          "output_type": "stream",
          "name": "stdout",
          "text": [
            "1\n",
            "2\n",
            "3\n",
            "4\n",
            "5\n",
            "6\n",
            "7\n",
            "8\n",
            "9\n",
            "10\n"
          ]
        }
      ]
    },
    {
      "cell_type": "code",
      "source": [
        "#print nos; from 1 to 20 alternatively\n",
        "for i in range(1,21,2):\n",
        "  print(i)"
      ],
      "metadata": {
        "colab": {
          "base_uri": "https://localhost:8080/"
        },
        "id": "H42FfEFtdYh9",
        "outputId": "a22d5714-9d81-4b2d-c7fc-bd58f3cb5d95"
      },
      "execution_count": 11,
      "outputs": [
        {
          "output_type": "stream",
          "name": "stdout",
          "text": [
            "1\n",
            "3\n",
            "5\n",
            "7\n",
            "9\n",
            "11\n",
            "13\n",
            "15\n",
            "17\n",
            "19\n"
          ]
        }
      ]
    },
    {
      "cell_type": "code",
      "source": [
        "# print the squares of 5,10,15,20,25,30\n",
        "for i in range(5,31,5):\n",
        "  print(i*i, end=\" \") #end=\" \" to print in single line"
      ],
      "metadata": {
        "colab": {
          "base_uri": "https://localhost:8080/"
        },
        "id": "VN8J1jl4ePm1",
        "outputId": "e14b08ee-1254-4b94-9b2a-934276cd301f"
      },
      "execution_count": 16,
      "outputs": [
        {
          "output_type": "stream",
          "name": "stdout",
          "text": [
            "25 100 225 400 625 900 "
          ]
        }
      ]
    },
    {
      "cell_type": "code",
      "source": [
        "#print numbers from 30 to 1\n",
        "for i in range(30,0,-1):\n",
        "  print(i,end=\" ,\")"
      ],
      "metadata": {
        "colab": {
          "base_uri": "https://localhost:8080/"
        },
        "id": "__1XKqInfnNE",
        "outputId": "45041c22-f9da-47c2-a15b-3f0aec0d7ba1"
      },
      "execution_count": 19,
      "outputs": [
        {
          "output_type": "stream",
          "name": "stdout",
          "text": [
            "30 ,29 ,28 ,27 ,26 ,25 ,24 ,23 ,22 ,21 ,20 ,19 ,18 ,17 ,16 ,15 ,14 ,13 ,12 ,11 ,10 ,9 ,8 ,7 ,6 ,5 ,4 ,3 ,2 ,1 ,"
          ]
        }
      ]
    },
    {
      "cell_type": "code",
      "source": [
        "#display number from 0 upto the user given no;\n",
        "num=int(input(\"Enter the upper limit:\"))\n",
        "for i in range(0,num+1):\n",
        "  print(i)"
      ],
      "metadata": {
        "colab": {
          "base_uri": "https://localhost:8080/"
        },
        "id": "WlOz3ScdgBF5",
        "outputId": "2ace5c23-a92c-4e2d-b3dd-3ec0dde25902"
      },
      "execution_count": 21,
      "outputs": [
        {
          "output_type": "stream",
          "name": "stdout",
          "text": [
            "Enter the upper limit:8\n",
            "0\n",
            "1\n",
            "2\n",
            "3\n",
            "4\n",
            "5\n",
            "6\n",
            "7\n",
            "8\n"
          ]
        }
      ]
    },
    {
      "cell_type": "code",
      "source": [
        "# display nos; from lower_limit to upper_limit. both specify by user.\n",
        "\n",
        "num1=int(input(\"Enter the lower limit:\"))\n",
        "num2=int(input(\"Enter the upper limit:\"))\n",
        "for i in range(num1,num2+1):\n",
        "  print(i, end=\"  \")"
      ],
      "metadata": {
        "colab": {
          "base_uri": "https://localhost:8080/"
        },
        "id": "E9dkQ3yagoq6",
        "outputId": "51de6d6c-660a-43a5-b730-1debdceaf281"
      },
      "execution_count": 23,
      "outputs": [
        {
          "output_type": "stream",
          "name": "stdout",
          "text": [
            "Enter the lower limit:1\n",
            "Enter the upper limit:12\n",
            "1  2  3  4  5  6  7  8  9  10  11  12  "
          ]
        }
      ]
    },
    {
      "cell_type": "code",
      "source": [
        "# in a range of nos; 0 to 20, i want to print only even numbers.\n",
        "num1=int(input(\"Enter the lower limit:\"))\n",
        "num2=int(input(\"Enter the upper limit:\"))\n",
        "for i in range(num1,num2+1):\n",
        "  if i%2==0:\n",
        "    print(i,end=\" \")\n",
        "  else:\n",
        "    print(\" \", end=\" \")"
      ],
      "metadata": {
        "colab": {
          "base_uri": "https://localhost:8080/"
        },
        "id": "7WKJEhuVhTTL",
        "outputId": "2bd30b57-a319-4f7d-dcbd-b3dbf8a5fd5e"
      },
      "execution_count": 32,
      "outputs": [
        {
          "output_type": "stream",
          "name": "stdout",
          "text": [
            "Enter the lower limit:7\n",
            "Enter the upper limit:18\n",
            "  8   10   12   14   16   18 "
          ]
        }
      ]
    },
    {
      "cell_type": "code",
      "source": [
        "# nos; from 11 to 15\n",
        "#add 11+12+13+14+15 = __________\n",
        "sum = 0\n",
        "for i in range(11,16):\n",
        "  sum=sum+i\n",
        "\n",
        "print(\"sum of nos; from 11 to 16 is:\",sum)\n"
      ],
      "metadata": {
        "colab": {
          "base_uri": "https://localhost:8080/"
        },
        "id": "eOj_S9NEjvH7",
        "outputId": "72470afd-e801-4cf8-87c0-3a56cda2eacd"
      },
      "execution_count": 42,
      "outputs": [
        {
          "output_type": "stream",
          "name": "stdout",
          "text": [
            "sum of nos; from 11 to 16 is: 65\n"
          ]
        }
      ]
    },
    {
      "cell_type": "code",
      "source": [
        "# count values from 13+15+17+19+...+33 = _____\n",
        "sum = 0\n",
        "for i in range(13,34,2):\n",
        "  sum=sum+i\n",
        "print(\"sum of these nos; are:\",sum)"
      ],
      "metadata": {
        "colab": {
          "base_uri": "https://localhost:8080/"
        },
        "id": "4thWMg6slbkO",
        "outputId": "56e86b96-f48e-4d3d-955d-90b223550256"
      },
      "execution_count": 47,
      "outputs": [
        {
          "output_type": "stream",
          "name": "stdout",
          "text": [
            "sum of these nos; are: 253\n"
          ]
        }
      ]
    },
    {
      "cell_type": "code",
      "source": [],
      "metadata": {
        "id": "Quj6wmTWnZ66"
      },
      "execution_count": null,
      "outputs": []
    },
    {
      "cell_type": "code",
      "source": [
        "# print factorial of a number\n",
        "#5!= 1*2*3*4*5\n",
        "#n!=1*2*3*....*(n-1)*n\n",
        "#factorial= factorial*(variable of range)\n",
        "\n",
        "n=int(input(\"Enter the number:\"))\n",
        "factorial=1\n",
        "for i in range(1,n+1):\n",
        "  factorial*=i\n",
        "print (\"The factorial of\",n,\"is:\",factorial)\n",
        "\n",
        "\n"
      ],
      "metadata": {
        "colab": {
          "base_uri": "https://localhost:8080/"
        },
        "id": "swwf6BVPmrWT",
        "outputId": "f073516a-1c9a-4597-ad9e-8b041418901e"
      },
      "execution_count": 49,
      "outputs": [
        {
          "output_type": "stream",
          "name": "stdout",
          "text": [
            "Enter the number:6\n",
            "The factorial of 6 is: 720\n"
          ]
        }
      ]
    },
    {
      "cell_type": "markdown",
      "source": [
        "### **Reverse a number**\n",
        "reverse a number using for loop\n",
        "\n",
        "        tens    ones\n",
        "\n",
        " 34 =     3(tens plpace)       4(ones place)\n",
        "\n",
        "34%10=             4 (the remainder value is 4)\n",
        "\n",
        "*   this method helps to iterate ones place digit.\n",
        "*  then multiply the remainder value with 10 goes to tens place\n",
        "* add remaining = 3\n",
        "*   total = 43\n",
        "\n",
        "\n",
        "\n",
        "\n",
        "\n",
        "\n",
        "\n"
      ],
      "metadata": {
        "id": "jU936EkGqrPi"
      }
    },
    {
      "cell_type": "code",
      "source": [
        "# take a no; from the user and reverse it.\n",
        "n=int(input(\"Enter the number:\"))\n",
        "rev_num=\" \"\n",
        "for i in str(n):\n",
        "  rev_num = i+rev_num\n",
        "print(\"The reverse of \", n,\"is:\",rev_num)\n",
        "\n",
        "\n"
      ],
      "metadata": {
        "colab": {
          "base_uri": "https://localhost:8080/"
        },
        "id": "vyc6e0UapUWQ",
        "outputId": "a3d606ee-6609-4179-887d-c07d6b4c9cf5"
      },
      "execution_count": 53,
      "outputs": [
        {
          "output_type": "stream",
          "name": "stdout",
          "text": [
            "Enter the number:23\n",
            "The reverse of  23 is: 32 \n"
          ]
        }
      ]
    },
    {
      "cell_type": "markdown",
      "source": [
        "## **while loop**\n"
      ],
      "metadata": {
        "id": "4u3Qi__fsgY6"
      }
    },
    {
      "cell_type": "code",
      "source": [
        "n=int(input(\"Enter the number:\"))\n",
        "rev_num=0\n",
        "while n>0:\n",
        "  digit=n%10\n",
        "  rev_num  =rev_num*10+digit\n",
        "  n=n//10\n",
        "print(\"The reverse of the number is:\",rev_num)"
      ],
      "metadata": {
        "colab": {
          "base_uri": "https://localhost:8080/"
        },
        "id": "PFvXXr9OtDWb",
        "outputId": "b8f1c29c-c012-4b62-9cb6-071c2b61bbc7"
      },
      "execution_count": 55,
      "outputs": [
        {
          "output_type": "stream",
          "name": "stdout",
          "text": [
            "Enter the number:123\n",
            "The reverse of the number is: 321\n"
          ]
        }
      ]
    }
  ]
}