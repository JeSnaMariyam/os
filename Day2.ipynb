{
  "nbformat": 4,
  "nbformat_minor": 0,
  "metadata": {
    "colab": {
      "provenance": [],
      "authorship_tag": "ABX9TyP/6jdCmYBkMnghLl6A4MUc",
      "include_colab_link": true
    },
    "kernelspec": {
      "name": "python3",
      "display_name": "Python 3"
    },
    "language_info": {
      "name": "python"
    }
  },
  "cells": [
    {
      "cell_type": "markdown",
      "metadata": {
        "id": "view-in-github",
        "colab_type": "text"
      },
      "source": [
        "<a href=\"https://colab.research.google.com/github/JeSnaMariyam/os/blob/main/Day2.ipynb\" target=\"_parent\"><img src=\"https://colab.research.google.com/assets/colab-badge.svg\" alt=\"Open In Colab\"/></a>"
      ]
    },
    {
      "cell_type": "markdown",
      "source": [
        "### PYTHON INPUT/OUTPUT\n"
      ],
      "metadata": {
        "id": "-6uoQmRl9Dne"
      }
    },
    {
      "cell_type": "code",
      "execution_count": null,
      "metadata": {
        "colab": {
          "base_uri": "https://localhost:8080/"
        },
        "id": "tptwSmZ93CtV",
        "outputId": "ccdb2383-2d63-4899-8a2d-a1d6a0d3a1d7"
      },
      "outputs": [
        {
          "output_type": "stream",
          "name": "stdout",
          "text": [
            "ENTER THE VALUE:-32\n",
            "-32\n"
          ]
        }
      ],
      "source": [
        "value=input(\"ENTER THE VALUE:\")\n",
        "print(value)"
      ]
    },
    {
      "cell_type": "markdown",
      "source": [
        "### PYTHON OPERATORS\n",
        "1. ARITHMETIC OPERATORS(+,-,*,/,***,%,//)\n",
        "2. logical operators(AND, OR, NOT)\n",
        "3. Bitwise operators()\n",
        "4. Assignment operators\n",
        "5. relational operators"
      ],
      "metadata": {
        "id": "nwoDzXi49pGS"
      }
    },
    {
      "cell_type": "code",
      "source": [
        "#logical operators\n",
        "a= True #1\n",
        "b= False #0\n",
        "print(a and b) #1 and 0==0\n",
        "print(a or b) #1 or 0==1\n",
        "print(not a) #!1=0\n"
      ],
      "metadata": {
        "colab": {
          "base_uri": "https://localhost:8080/"
        },
        "id": "TuGI1qCC-K4-",
        "outputId": "bb874cc7-a945-4e4b-9361-b84d2b983aa3"
      },
      "execution_count": null,
      "outputs": [
        {
          "output_type": "stream",
          "name": "stdout",
          "text": [
            "False\n",
            "True\n",
            "False\n"
          ]
        }
      ]
    },
    {
      "cell_type": "code",
      "source": [
        "#bitwise operators\n",
        "a=10 #1010\n",
        "b=4 #0100\n",
        "print(a & b) #1010 & 0100 == 0000\n",
        "print(a | b) #1010 or 01000 == 1110\n"
      ],
      "metadata": {
        "colab": {
          "base_uri": "https://localhost:8080/"
        },
        "id": "1WWPBwR_-u7B",
        "outputId": "af0513df-fe6f-482b-c898-41a44a3b6d18"
      },
      "execution_count": null,
      "outputs": [
        {
          "output_type": "stream",
          "name": "stdout",
          "text": [
            "0\n",
            "14\n"
          ]
        }
      ]
    },
    {
      "cell_type": "code",
      "source": [
        "#Assignment operators\n",
        "a=10\n",
        "a+ =5 #a=a+5 ans = 15\n",
        "a-=4 #a=a-4\n",
        "a* =3  #a=a*3\n",
        "\n"
      ],
      "metadata": {
        "colab": {
          "base_uri": "https://localhost:8080/",
          "height": 106
        },
        "id": "ezQTVYflED6y",
        "outputId": "3d8ab6df-0f23-4231-b4d3-e8366c127efc"
      },
      "execution_count": null,
      "outputs": [
        {
          "output_type": "error",
          "ename": "SyntaxError",
          "evalue": "invalid syntax (<ipython-input-22-b818e7a7f084>, line 3)",
          "traceback": [
            "\u001b[0;36m  File \u001b[0;32m\"<ipython-input-22-b818e7a7f084>\"\u001b[0;36m, line \u001b[0;32m3\u001b[0m\n\u001b[0;31m    a+ ==5 #a=a+5 ans = 15\u001b[0m\n\u001b[0m       ^\u001b[0m\n\u001b[0;31mSyntaxError\u001b[0m\u001b[0;31m:\u001b[0m invalid syntax\n"
          ]
        }
      ]
    },
    {
      "cell_type": "code",
      "source": [
        "# Relational operators\n",
        "# >  <  ==  !=   >=   <=\n",
        "#o/p will always be True or FALSE\n",
        "num1 = 10\n",
        "num2 = -30\n",
        "print(\"is num1>num2:\",num1>num2)\n",
        "print(\"is num1 = num2:\",num1==num2)\n",
        "\n",
        "n1=100\n",
        "n2=20\n",
        "n3=30\n",
        "print(\"are the nos;\",n1,n2,n3,\"in ascending order?:\",n1<n2<n3)"
      ],
      "metadata": {
        "colab": {
          "base_uri": "https://localhost:8080/"
        },
        "id": "8mO1bpkaEo0j",
        "outputId": "56787c76-9aa2-49b0-a88b-10ab6df4ff11"
      },
      "execution_count": null,
      "outputs": [
        {
          "output_type": "stream",
          "name": "stdout",
          "text": [
            "is num1>num2: True\n",
            "is num1 = num2: False\n",
            "are the nos; 100 20 30 in ascending order?: False\n"
          ]
        }
      ]
    },
    {
      "cell_type": "markdown",
      "source": [
        "### Control Flow Statement\n",
        "---\n",
        "\n",
        "1. if else\n",
        "2. Loops---> for and while\n"
      ],
      "metadata": {
        "id": "_u3r1Tf7HLvO"
      }
    },
    {
      "cell_type": "code",
      "source": [
        "#if else condition\n",
        "# check if the no: is +ve or not. print the result\n",
        "i = float(input(\"Enter the number1:\"))\n",
        "j= float(input(\"Enter the number2:\"))\n",
        "if i>0:\n",
        "  print(\"number is positive\")\n",
        "else:\n",
        "  print(\"number is negative\")\n",
        "if j>0:\n",
        "  print(\"number is positive\")\n",
        "else:\n",
        "  print(\"number is negative\")"
      ],
      "metadata": {
        "colab": {
          "base_uri": "https://localhost:8080/"
        },
        "id": "AOfqwIGRHGo3",
        "outputId": "1f3dc561-5101-4122-e0e5-0d0a8ad7a12c"
      },
      "execution_count": null,
      "outputs": [
        {
          "output_type": "stream",
          "name": "stdout",
          "text": [
            "Enter the number1:2\n",
            "Enter the number2:4\n",
            "number is positive\n",
            "number is positive\n"
          ]
        }
      ]
    },
    {
      "cell_type": "code",
      "source": [
        "num1= 25\n",
        "num2= -25\n",
        "if num1 > num2:\n",
        "  print(\"num1 is greater\")\n",
        "else:\n",
        "  print(\"num2 is greater\")"
      ],
      "metadata": {
        "colab": {
          "base_uri": "https://localhost:8080/"
        },
        "id": "A5Xbix5KKbZu",
        "outputId": "f3f5447f-2445-476a-c7ae-15fb68b79f53"
      },
      "execution_count": null,
      "outputs": [
        {
          "output_type": "stream",
          "name": "stdout",
          "text": [
            "num1 is greater\n"
          ]
        }
      ]
    },
    {
      "cell_type": "code",
      "source": [
        "#take 2 nos from user, if no; is +ve add 10\n",
        "# if it is a -ve no;, add -19\n",
        "a=float(input(\"Enter the number:\"))\n",
        "if a>0:\n",
        "  print(a+10)\n",
        "else:\n",
        "  print(a-19)\n",
        "\n",
        "\n"
      ],
      "metadata": {
        "colab": {
          "base_uri": "https://localhost:8080/"
        },
        "id": "-oDvTUB2K9uB",
        "outputId": "d58679f8-44b5-4c8e-a1a1-cd3673f9e55c"
      },
      "execution_count": null,
      "outputs": [
        {
          "output_type": "stream",
          "name": "stdout",
          "text": [
            "Enter the number:-3\n",
            "-22.0\n"
          ]
        }
      ]
    },
    {
      "cell_type": "code",
      "source": [
        "# check odd or even\n",
        "n=int(input(\"Enter the number:\"))\n",
        "if n%2==0:\n",
        "  print(\"even\")\n",
        "else:\n",
        "  print(\"odd\")"
      ],
      "metadata": {
        "colab": {
          "base_uri": "https://localhost:8080/"
        },
        "id": "xQxJPXHgOBaz",
        "outputId": "24e0c9c4-0e9d-425f-e960-5074c38b40f0"
      },
      "execution_count": null,
      "outputs": [
        {
          "output_type": "stream",
          "name": "stdout",
          "text": [
            "Enter the number:3\n",
            "odd\n"
          ]
        }
      ]
    },
    {
      "cell_type": "code",
      "source": [
        "# check voting eligiblity\n",
        "age=int(input(\"Enter your age:\"))\n",
        "if age>=18:\n",
        "  print(\"Eligible\")\n",
        "else:\n",
        "  print(\"Not eligible\")"
      ],
      "metadata": {
        "colab": {
          "base_uri": "https://localhost:8080/"
        },
        "id": "OkMCGVKDOpWh",
        "outputId": "8489a75c-5bb4-4a20-cb76-89c1705c60bc"
      },
      "execution_count": null,
      "outputs": [
        {
          "output_type": "stream",
          "name": "stdout",
          "text": [
            "Enter your age:3\n",
            "Not eligible\n"
          ]
        }
      ]
    },
    {
      "cell_type": "markdown",
      "source": [
        "if-elif-else\n",
        "\n",
        "if condition1:\n",
        "  code\n",
        "elif condition2:\n",
        "  code\n",
        "elif condition3:\n",
        "  code\n",
        "else:\n",
        "  code"
      ],
      "metadata": {
        "id": "uWYWWkFUQafa"
      }
    },
    {
      "cell_type": "code",
      "source": [
        "# if-elif-else\n",
        "n1=int(input(\"Enter the no;\"))\n",
        "if n1>0:\n",
        "  print(positive)\n",
        "elif n1<0:\n",
        "  print(\"negative\")\n",
        "else:\n",
        "  print(\"Zero\")\n",
        "\n"
      ],
      "metadata": {
        "colab": {
          "base_uri": "https://localhost:8080/"
        },
        "id": "8eDkcei9QE1S",
        "outputId": "7cc5b84a-f34a-44f7-a830-e2a995f8b4cc"
      },
      "execution_count": null,
      "outputs": [
        {
          "output_type": "stream",
          "name": "stdout",
          "text": [
            "Enter the no;0\n",
            "Zero\n"
          ]
        }
      ]
    },
    {
      "cell_type": "markdown",
      "source": [
        "# **Assignment**"
      ],
      "metadata": {
        "id": "d49TvQrd3j-5"
      }
    },
    {
      "cell_type": "code",
      "source": [
        "#take the age of a person and classify the person as minor, adult, or snr citizen\n",
        "\n",
        "age=int(input(\"Enter the age:\"))\n",
        "if age<18:\n",
        "  print(\"Minor\")\n",
        "elif age>18 and age<60:\n",
        "  print(\"Adult\")\n",
        "else:\n",
        "  print(\"snr citizen\")\n"
      ],
      "metadata": {
        "colab": {
          "base_uri": "https://localhost:8080/"
        },
        "id": "dmwaqEQNRkNY",
        "outputId": "d8124e8d-0496-4d87-a0f5-c0bc43536053"
      },
      "execution_count": null,
      "outputs": [
        {
          "output_type": "stream",
          "name": "stdout",
          "text": [
            "Enter the age:3\n",
            "Minor\n"
          ]
        }
      ]
    },
    {
      "cell_type": "code",
      "source": [
        "#take the exam score of a student, and grade him based on the foll:\n",
        "# 90 and above : A\n",
        "# 80-89 : B\n",
        "# 70-79 : C\n",
        "# bellow 70 : F\n",
        "mark= float(input(\"Enter the mark:\"))\n",
        "if mark>=90:\n",
        "  print(\"Grade:A\")\n",
        "elif mark>=80 and mark<=89:\n",
        "  print(\"Grade:B\")\n",
        "elif mark>=70 and mark<=79:\n",
        "  print(\"Grade:C\")\n",
        "else:\n",
        "  print(\"Grade:F\")\n"
      ],
      "metadata": {
        "id": "TIwBu7ZuRtj-",
        "colab": {
          "base_uri": "https://localhost:8080/"
        },
        "outputId": "8c77c46c-1bd3-4b52-b2c2-4f6ff627adba"
      },
      "execution_count": 7,
      "outputs": [
        {
          "output_type": "stream",
          "name": "stdout",
          "text": [
            "Enter the mark:73\n",
            "Grade:C\n"
          ]
        }
      ]
    },
    {
      "cell_type": "code",
      "source": [
        "# take the temp: as i/p and classify it as hot (above 30c), warm(20-30c) or cold(below 20c)\n",
        "temp= float(input(\"Enter the temperature:\"))\n",
        "if temp>30:\n",
        "  print(\"Hot\")\n",
        "elif temp>=20 and temp<=30:\n",
        "  print(\"Warm\")\n",
        "else:\n",
        "  print(\"temperature below 20 dgree celcius is considered as cold\")\n"
      ],
      "metadata": {
        "id": "UdItydErSDCf",
        "colab": {
          "base_uri": "https://localhost:8080/"
        },
        "outputId": "9304be11-0893-4bf6-9605-fc5cd7269f59"
      },
      "execution_count": 11,
      "outputs": [
        {
          "output_type": "stream",
          "name": "stdout",
          "text": [
            "Enter the temperature:6\n",
            "temperature below 20 dgree celcius is considered as cold\n"
          ]
        }
      ]
    },
    {
      "cell_type": "code",
      "source": [
        "# check if a given year is leap year or not.\n",
        "# A year is leap year if it is divisible by 4, not divisible by 100\n",
        "\n",
        "year= int(input(\"Enter year:\"))\n",
        "if year%4==0 and year%100!=0:\n",
        "  print(year,\"is a leap year\")\n",
        "else:\n",
        "  print(year,\"is not a leap year\")"
      ],
      "metadata": {
        "id": "U71Kz_FJSaeT",
        "colab": {
          "base_uri": "https://localhost:8080/"
        },
        "outputId": "e1500c7d-c7d6-4f50-969a-94f42b225be9"
      },
      "execution_count": 16,
      "outputs": [
        {
          "output_type": "stream",
          "name": "stdout",
          "text": [
            "Enter year:2020\n",
            "2020 is a leap year\n"
          ]
        }
      ]
    },
    {
      "cell_type": "code",
      "source": [
        "# check whether the customer is eligible for 10% discount\n",
        "# If the total purchase is above Rs3000, apply the discount and print the new amount\n",
        "# otherwise print the original amount\n",
        "amount=float(input(\"Enter the amount:\"))\n",
        "if amount>3000:\n",
        "  print(\"Eligible for 10% dicount\")\n",
        "  print(amount-10%(amount),\"is the new amount\")\n",
        "else:\n",
        "  print(amount,\"is the original amount\")\n",
        "\n",
        "\n",
        "\n",
        ""
      ],
      "metadata": {
        "id": "oDrrl2GHTvBI",
        "colab": {
          "base_uri": "https://localhost:8080/"
        },
        "outputId": "57661d91-04c6-4f63-e8c2-16ec97711be3"
      },
      "execution_count": 15,
      "outputs": [
        {
          "output_type": "stream",
          "name": "stdout",
          "text": [
            "Enter the amount:4000\n",
            "Eligible for 10% dicount\n",
            "3990.0 is the new amount\n"
          ]
        }
      ]
    }
  ]
}